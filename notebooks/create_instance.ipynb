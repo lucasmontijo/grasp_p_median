{
 "cells": [
  {
   "cell_type": "code",
   "execution_count": 1,
   "metadata": {},
   "outputs": [],
   "source": [
    "import sys\n",
    "sys.path.append('../src/')\n",
    "from matplotlib import pyplot as plt"
   ]
  },
  {
   "cell_type": "code",
   "execution_count": 2,
   "metadata": {},
   "outputs": [],
   "source": [
    "from instance import *"
   ]
  },
  {
   "cell_type": "markdown",
   "metadata": {},
   "source": [
    "### Criando nova instância\n",
    "Rodar células apenas na primeira vez ou caso os arquivos data/instance.csv não existirem"
   ]
  },
  {
   "cell_type": "code",
   "execution_count": 3,
   "metadata": {},
   "outputs": [
    {
     "name": "stdout",
     "output_type": "stream",
     "text": [
      "Foram criadas 45 instancias!\n"
     ]
    }
   ],
   "source": [
    "instanceQuantity = 24\n",
    "x = 0\n",
    "for x in range(23, instanceQuantity):\n",
    "    if(x <= 15):\n",
    "        points_number = 100\n",
    "    elif (x > 15 and x <= 30):\n",
    "        points_number = 200\n",
    "    else:\n",
    "        points_number = 300\n",
    "\n",
    "    instance = create_instance(points_number, 0, 100)\n",
    "    save_instance(pd.DataFrame(instance, columns=['index', 'x', 'y']), path = \"../data/\", file_name='instance_'+ str(x) +'.csv')\n",
    "else:\n",
    "    print('Foram criadas ' + str(instanceQuantity) + ' instancias!')"
   ]
  },
  {
   "cell_type": "markdown",
   "metadata": {},
   "source": [
    "### Lendo instância gerada"
   ]
  },
  {
   "cell_type": "code",
   "execution_count": 4,
   "metadata": {},
   "outputs": [],
   "source": [
    "saved_instance = load_instance(path = \"../data/\", file_name = \"instance_0.csv\")"
   ]
  },
  {
   "cell_type": "markdown",
   "metadata": {},
   "source": [
    "### Visualizando instâncias geradas"
   ]
  },
  {
   "cell_type": "code",
   "execution_count": 5,
   "metadata": {},
   "outputs": [
    {
     "data": {
      "image/png": "[encoded data removed]",
      "text/plain": [
       "<Figure size 640x480 with 1 Axes>"
      ]
     },
     "metadata": {},
     "output_type": "display_data"
    }
   ],
   "source": [
    "x,y = saved_instance.x, saved_instance.y\n",
    "plt.axis(\"off\")\n",
    "plt.scatter(x,y)\n",
    "plt.show()"
   ]
  }
 ],
 "metadata": {
  "kernelspec": {
   "display_name": "Python 3.9.12 ('grasp')",
   "language": "python",
   "name": "python3"
  },
  "language_info": {
   "codemirror_mode": {
    "name": "ipython",
    "version": 3
   },
   "file_extension": ".py",
   "mimetype": "text/x-python",
   "name": "python",
   "nbconvert_exporter": "python",
   "pygments_lexer": "ipython3",
   "version": "3.9.12"
  },
  "orig_nbformat": 4,
  "vscode": {
   "interpreter": {
    "hash": "7bc06694efa0b070aae3ecdb0ac8b7ca0e2605f46049c28041a38601ede34c81"
   }
  }
 },
 "nbformat": 4,
 "nbformat_minor": 2
}
