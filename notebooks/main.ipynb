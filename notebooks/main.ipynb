{
 "cells": [
  {
   "cell_type": "code",
   "execution_count": 1,
   "metadata": {},
   "outputs": [],
   "source": [
    "import sys\n",
    "sys.path.append('../src/')\n",
    "from matplotlib import pyplot as plt\n",
    "import numpy as np"
   ]
  },
  {
   "cell_type": "code",
   "execution_count": 2,
   "metadata": {},
   "outputs": [],
   "source": [
    "from instance import *\n",
    "from local_search import *\n",
    "from initial_solution import *\n",
    "from random import randint"
   ]
  },
  {
   "cell_type": "code",
   "execution_count": 3,
   "metadata": {},
   "outputs": [],
   "source": [
    "instance = load_instance(path=\"../data/\", file_name=\"instance_0.csv\")"
   ]
  },
  {
   "cell_type": "code",
   "execution_count": 4,
   "metadata": {},
   "outputs": [],
   "source": [
    "instance = instance.to_numpy()"
   ]
  },
  {
   "cell_type": "code",
   "execution_count": 5,
   "metadata": {},
   "outputs": [],
   "source": [
    "distance_matrix = generate_distance_matrix(instance)\n",
    "g_t = calculate_g_of_t(instance, distance_matrix)\n",
    "lrc = generate_lrc(g_t, 0.4, instance)\n"
   ]
  },
  {
   "cell_type": "markdown",
   "metadata": {},
   "source": [
    "Gerando busca inicial"
   ]
  },
  {
   "cell_type": "code",
   "execution_count": 6,
   "metadata": {},
   "outputs": [
    {
     "name": "stdout",
     "output_type": "stream",
     "text": [
      "[12, 74, 0, 23, 1, 4, 94, 21, 48, 8]\n"
     ]
    }
   ],
   "source": [
    "initial_solution = greedy_initial_construction(instance, lrc, 10)"
   ]
  },
  {
   "cell_type": "code",
   "execution_count": 7,
   "metadata": {},
   "outputs": [
    {
     "data": {
      "image/png": "[encoded data removed]",
      "text/plain": [
       "<Figure size 640x480 with 1 Axes>"
      ]
     },
     "metadata": {},
     "output_type": "display_data"
    }
   ],
   "source": [
    "x, y = instance[:, 1], instance[:, 2]\n",
    "x_initial, y_initial = initial_solution[:, 1], initial_solution[:, 2]\n",
    "plt.axis(\"off\")\n",
    "plt.scatter(x, y)\n",
    "plt.scatter(x_initial, y_initial)\n",
    "plt.show()"
   ]
  },
  {
   "cell_type": "markdown",
   "metadata": {},
   "source": [
    "## Busca Local - Teitz and Bart"
   ]
  },
  {
   "cell_type": "code",
   "execution_count": 8,
   "metadata": {},
   "outputs": [
    {
     "name": "stdout",
     "output_type": "stream",
     "text": [
      "Solucao inicial - Z: 1459.9105698059936P-Medianas: [[12 67 40]\n",
      " [74 52 44]\n",
      " [ 0 56 65]\n",
      " [23 79 48]\n",
      " [ 1 14 28]\n",
      " [ 4 59 62]\n",
      " [94 67 41]\n",
      " [21 32 42]\n",
      " [48 84 74]\n",
      " [ 8 72 84]]\n",
      "Solucao 0 Z Z: 1101.6144019464653 P-Medianas: [[12 67 40]\n",
      " [74 52 44]\n",
      " [ 0 56 65]\n",
      " [23 79 48]\n",
      " [ 1 14 28]\n",
      " [ 4 59 62]\n",
      " [71 49  2]\n",
      " [21 32 42]\n",
      " [48 84 74]\n",
      " [ 8 72 84]]\n",
      "Solucao 1 Z Z: 885.5879828948217 P-Medianas: [[12 67 40]\n",
      " [13 20 64]\n",
      " [ 0 56 65]\n",
      " [23 79 48]\n",
      " [ 1 14 28]\n",
      " [ 4 59 62]\n",
      " [71 49  2]\n",
      " [21 32 42]\n",
      " [48 84 74]\n",
      " [ 8 72 84]]\n",
      "Solucao 2 Z Z: 794.1549637106149 P-Medianas: [[12 67 40]\n",
      " [13 20 64]\n",
      " [ 0 56 65]\n",
      " [23 79 48]\n",
      " [ 1 14 28]\n",
      " [ 3 86 26]\n",
      " [71 49  2]\n",
      " [21 32 42]\n",
      " [48 84 74]\n",
      " [ 8 72 84]]\n",
      "Solucao 3 Z Z: 732.7312586318079 P-Medianas: [[12 67 40]\n",
      " [13 20 64]\n",
      " [ 0 56 65]\n",
      " [23 79 48]\n",
      " [ 1 14 28]\n",
      " [ 3 86 26]\n",
      " [71 49  2]\n",
      " [21 32 42]\n",
      " [95 28  7]\n",
      " [ 8 72 84]]\n",
      "Solucao 4 Z Z: 704.7765881328647 P-Medianas: [[40 96 51]\n",
      " [13 20 64]\n",
      " [ 0 56 65]\n",
      " [23 79 48]\n",
      " [ 1 14 28]\n",
      " [ 3 86 26]\n",
      " [71 49  2]\n",
      " [21 32 42]\n",
      " [95 28  7]\n",
      " [ 8 72 84]]\n",
      "Solucao 5 Z Z: 681.7257498750822 P-Medianas: [[40 96 51]\n",
      " [13 20 64]\n",
      " [ 0 56 65]\n",
      " [23 79 48]\n",
      " [ 1 14 28]\n",
      " [ 3 86 26]\n",
      " [71 49  2]\n",
      " [73 38 37]\n",
      " [95 28  7]\n",
      " [ 8 72 84]]\n",
      "Solucao 6 Z Z: 665.3338547384365 P-Medianas: [[40 96 51]\n",
      " [13 20 64]\n",
      " [ 0 56 65]\n",
      " [23 79 48]\n",
      " [ 1 14 28]\n",
      " [ 3 86 26]\n",
      " [71 49  2]\n",
      " [73 38 37]\n",
      " [95 28  7]\n",
      " [26 77 82]]\n",
      "Solucao 7 Z Z: 662.3154500183052 P-Medianas: [[97 32 57]\n",
      " [13 20 64]\n",
      " [ 0 56 65]\n",
      " [23 79 48]\n",
      " [ 1 14 28]\n",
      " [ 3 86 26]\n",
      " [71 49  2]\n",
      " [73 38 37]\n",
      " [95 28  7]\n",
      " [26 77 82]]\n",
      "Solucao 8 Z Z: 644.6762341792693 P-Medianas: [[97 32 57]\n",
      " [13 20 64]\n",
      " [ 0 56 65]\n",
      " [23 79 48]\n",
      " [ 1 14 28]\n",
      " [ 3 86 26]\n",
      " [71 49  2]\n",
      " [45 43 33]\n",
      " [95 28  7]\n",
      " [26 77 82]]\n",
      "Melhor solucao encontrada8 => Z: 644.6762341792693 P-Medianas: [[97 32 57]\n",
      " [13 20 64]\n",
      " [ 0 56 65]\n",
      " [23 79 48]\n",
      " [ 1 14 28]\n",
      " [ 3 86 26]\n",
      " [71 49  2]\n",
      " [45 43 33]\n",
      " [95 28  7]\n",
      " [26 77 82]]\n"
     ]
    },
    {
     "data": {
      "text/plain": [
       "array([[97, 32, 57],\n",
       "       [13, 20, 64],\n",
       "       [ 0, 56, 65],\n",
       "       [23, 79, 48],\n",
       "       [ 1, 14, 28],\n",
       "       [ 3, 86, 26],\n",
       "       [71, 49,  2],\n",
       "       [45, 43, 33],\n",
       "       [95, 28,  7],\n",
       "       [26, 77, 82]])"
      ]
     },
     "execution_count": 8,
     "metadata": {},
     "output_type": "execute_result"
    }
   ],
   "source": [
    "z, result = teitz_and_bart(initial_solution, instance, distance_matrix)\n",
    "z\n",
    "result"
   ]
  },
  {
   "cell_type": "code",
   "execution_count": 9,
   "metadata": {},
   "outputs": [
    {
     "data": {
      "image/png": "[encoded data removed]",
      "text/plain": [
       "<Figure size 640x480 with 1 Axes>"
      ]
     },
     "metadata": {},
     "output_type": "display_data"
    }
   ],
   "source": [
    "x, y = instance[:, 1], instance[:, 2]\n",
    "x_solution, y_solution = result[:, 1], result[:, 2]\n",
    "plt.axis(\"off\")\n",
    "plt.scatter(x, y)\n",
    "plt.scatter(x_solution, y_solution)\n",
    "plt.show()"
   ]
  },
  {
   "cell_type": "markdown",
   "metadata": {},
   "source": []
  }
 ],
 "metadata": {
  "kernelspec": {
   "display_name": "Python 3.10.6 64-bit",
   "language": "python",
   "name": "python3"
  },
  "language_info": {
   "codemirror_mode": {
    "name": "ipython",
    "version": 3
   },
   "file_extension": ".py",
   "mimetype": "text/x-python",
   "name": "python",
   "nbconvert_exporter": "python",
   "pygments_lexer": "ipython3",
   "version": "3.10.6"
  },
  "orig_nbformat": 4,
  "vscode": {
   "interpreter": {
    "hash": "369f2c481f4da34e4445cda3fffd2e751bd1c4d706f27375911949ba6bb62e1c"
   }
  }
 },
 "nbformat": 4,
 "nbformat_minor": 2
}
