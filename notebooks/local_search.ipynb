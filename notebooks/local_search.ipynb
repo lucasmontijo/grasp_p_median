{
 "cells": [
  {
   "cell_type": "code",
   "execution_count": 172,
   "metadata": {},
   "outputs": [],
   "source": [
    "import sys\n",
    "sys.path.append('../src/')\n",
    "from matplotlib import pyplot as plt\n",
    "import numpy as np"
   ]
  },
  {
   "cell_type": "code",
   "execution_count": 173,
   "metadata": {},
   "outputs": [],
   "source": [
    "from instance import *\n",
    "from local_search import *\n",
    "from initial_solution import *\n",
    "from random import randint"
   ]
  },
  {
   "cell_type": "code",
   "execution_count": 174,
   "metadata": {},
   "outputs": [],
   "source": [
    "instance = load_instance(path=\"../data/\", file_name=\"instance_0.csv\")"
   ]
  },
  {
   "cell_type": "code",
   "execution_count": 175,
   "metadata": {},
   "outputs": [],
   "source": [
    "instance = instance.to_numpy()"
   ]
  },
  {
   "cell_type": "code",
   "execution_count": 176,
   "metadata": {},
   "outputs": [],
   "source": [
    "distance_matrix = generate_distance_matrix(instance)\n",
    "g_t = calculate_g_of_t(instance, distance_matrix)\n",
    "lrc = generate_lrc(g_t, 0.6, instance)\n"
   ]
  },
  {
   "cell_type": "markdown",
   "metadata": {},
   "source": [
    "Gerando busca inicial"
   ]
  },
  {
   "cell_type": "code",
   "execution_count": 177,
   "metadata": {},
   "outputs": [
    {
     "name": "stdout",
     "output_type": "stream",
     "text": [
      "Tempo levado para construcao inicial: 0.0s\n"
     ]
    }
   ],
   "source": [
    "initial_solution = greedy_initial_construction(instance, lrc, 6)"
   ]
  },
  {
   "cell_type": "code",
   "execution_count": 178,
   "metadata": {},
   "outputs": [
    {
     "data": {
      "image/png": "[encoded data removed]",
      "text/plain": [
       "<Figure size 640x480 with 1 Axes>"
      ]
     },
     "metadata": {},
     "output_type": "display_data"
    }
   ],
   "source": [
    "x, y = instance[:, 1], instance[:, 2]\n",
    "x_initial, y_initial = initial_solution[:, 1], initial_solution[:, 2]\n",
    "plt.axis(\"off\")\n",
    "plt.scatter(x, y)\n",
    "plt.scatter(x_initial, y_initial)\n",
    "plt.show()"
   ]
  },
  {
   "cell_type": "markdown",
   "metadata": {},
   "source": [
    "## Busca Local - Teitz and Bart"
   ]
  },
  {
   "cell_type": "code",
   "execution_count": 179,
   "metadata": {},
   "outputs": [
    {
     "name": "stdout",
     "output_type": "stream",
     "text": [
      "Solucao inicial - Z: 1786.1069831169148P-Medianas: [[86 21 76]\n",
      " [70 51 25]\n",
      " [69 68 69]\n",
      " [22 68 20]\n",
      " [81 86 70]\n",
      " [29 63 94]]\n",
      "Solucao 0 Z Z: 1459.7531464473404 P-Medianas: [[86 21 76]\n",
      " [70 51 25]\n",
      " [32 20 19]\n",
      " [22 68 20]\n",
      " [81 86 70]\n",
      " [29 63 94]]\n",
      "Solucao 1 Z Z: 1311.3377529752293 P-Medianas: [[86 21 76]\n",
      " [70 51 25]\n",
      " [32 20 19]\n",
      " [40 96 51]\n",
      " [81 86 70]\n",
      " [29 63 94]]\n",
      "Solucao 2 Z Z: 1238.0007422413694 P-Medianas: [[86 21 76]\n",
      " [70 51 25]\n",
      " [32 20 19]\n",
      " [40 96 51]\n",
      " [19 49 52]\n",
      " [29 63 94]]\n",
      "Solucao 3 Z Z: 1199.8789346098495 P-Medianas: [[86 21 76]\n",
      " [70 51 25]\n",
      " [32 20 19]\n",
      " [40 96 51]\n",
      " [19 49 52]\n",
      " [26 77 82]]\n",
      "Solucao 4 Z Z: 1183.2695108254316 P-Medianas: [[86 21 76]\n",
      " [70 51 25]\n",
      " [44 14 11]\n",
      " [40 96 51]\n",
      " [19 49 52]\n",
      " [26 77 82]]\n",
      "Solucao 5 Z Z: 1176.128491855752 P-Medianas: [[85 13 65]\n",
      " [70 51 25]\n",
      " [44 14 11]\n",
      " [40 96 51]\n",
      " [19 49 52]\n",
      " [26 77 82]]\n",
      "Solucao 6 Z Z: 1167.3894496392647 P-Medianas: [[85 13 65]\n",
      " [70 51 25]\n",
      " [44 14 11]\n",
      " [40 96 51]\n",
      " [28 88 23]\n",
      " [26 77 82]]\n",
      "Solucao 7 Z Z: 1089.4229653825835 P-Medianas: [[85 13 65]\n",
      " [91 49 19]\n",
      " [44 14 11]\n",
      " [40 96 51]\n",
      " [28 88 23]\n",
      " [26 77 82]]\n",
      "Solucao 8 Z Z: 1042.0088390225555 P-Medianas: [[85 13 65]\n",
      " [91 49 19]\n",
      " [44 14 11]\n",
      " [40 96 51]\n",
      " [23 79 48]\n",
      " [26 77 82]]\n",
      "Solucao 9 Z Z: 1039.2223466284418 P-Medianas: [[85 13 65]\n",
      " [91 49 19]\n",
      " [44 14 11]\n",
      " [51 94 35]\n",
      " [23 79 48]\n",
      " [26 77 82]]\n",
      "Solucao 10 Z Z: 1025.4632886773243 P-Medianas: [[85 13 65]\n",
      " [91 49 19]\n",
      " [44 14 11]\n",
      " [51 94 35]\n",
      " [97 32 57]\n",
      " [26 77 82]]\n",
      "Melhor solucao encontrada10 => Z: 1025.4632886773243 P-Medianas: [[85 13 65]\n",
      " [91 49 19]\n",
      " [44 14 11]\n",
      " [51 94 35]\n",
      " [97 32 57]\n",
      " [26 77 82]]\n",
      "Tempo levado para busca local: 6.39s\n"
     ]
    },
    {
     "data": {
      "text/plain": [
       "array([[85, 13, 65],\n",
       "       [91, 49, 19],\n",
       "       [44, 14, 11],\n",
       "       [51, 94, 35],\n",
       "       [97, 32, 57],\n",
       "       [26, 77, 82]])"
      ]
     },
     "execution_count": 179,
     "metadata": {},
     "output_type": "execute_result"
    }
   ],
   "source": [
    "z, result = teitz_and_bart(initial_solution, instance, distance_matrix)\n",
    "z\n",
    "result"
   ]
  },
  {
   "cell_type": "code",
   "execution_count": 180,
   "metadata": {},
   "outputs": [
    {
     "data": {
      "image/png": "[encoded data removed]",
      "text/plain": [
       "<Figure size 640x480 with 1 Axes>"
      ]
     },
     "metadata": {},
     "output_type": "display_data"
    }
   ],
   "source": [
    "x, y = instance[:, 1], instance[:, 2]\n",
    "x_solution, y_solution = result[:, 1], result[:, 2]\n",
    "plt.axis(\"off\")\n",
    "plt.scatter(x, y)\n",
    "plt.scatter(x_solution, y_solution)\n",
    "plt.show()"
   ]
  }
 ],
 "metadata": {
  "kernelspec": {
   "display_name": "Python 3.9.12 ('grasp')",
   "language": "python",
   "name": "python3"
  },
  "language_info": {
   "codemirror_mode": {
    "name": "ipython",
    "version": 3
   },
   "file_extension": ".py",
   "mimetype": "text/x-python",
   "name": "python",
   "nbconvert_exporter": "python",
   "pygments_lexer": "ipython3",
   "version": "3.9.12"
  },
  "orig_nbformat": 4,
  "vscode": {
   "interpreter": {
    "hash": "7bc06694efa0b070aae3ecdb0ac8b7ca0e2605f46049c28041a38601ede34c81"
   }
  }
 },
 "nbformat": 4,
 "nbformat_minor": 2
}
