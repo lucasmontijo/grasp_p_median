{
 "cells": [
  {
   "cell_type": "code",
   "execution_count": 1,
   "metadata": {},
   "outputs": [],
   "source": [
    "import sys\n",
    "sys.path.append('../src/')\n",
    "from matplotlib import pyplot as plt\n",
    "import numpy as np"
   ]
  },
  {
   "cell_type": "code",
   "execution_count": 2,
   "metadata": {},
   "outputs": [],
   "source": [
    "from instance import *\n",
    "from local_search import *\n",
    "from initial_solution import *\n",
    "from random import randint"
   ]
  },
  {
   "cell_type": "code",
   "execution_count": 3,
   "metadata": {},
   "outputs": [],
   "source": [
    "instance = load_instance(path=\"../data/\", file_name=\"instance_0.csv\")"
   ]
  },
  {
   "cell_type": "code",
   "execution_count": 4,
   "metadata": {},
   "outputs": [],
   "source": [
    "instance = instance.to_numpy()"
   ]
  },
  {
   "cell_type": "code",
   "execution_count": 5,
   "metadata": {},
   "outputs": [],
   "source": [
    "distance_matrix = generate_distance_matrix(instance)\n",
    "g_t = calculate_g_of_t(instance, distance_matrix)\n",
    "lrc = generate_lrc(g_t, 0.4, instance)\n"
   ]
  },
  {
   "cell_type": "markdown",
   "metadata": {},
   "source": [
    "Gerando busca inicial"
   ]
  },
  {
   "cell_type": "code",
   "execution_count": 6,
   "metadata": {},
   "outputs": [
    {
     "name": "stdout",
     "output_type": "stream",
     "text": [
      "Tempo levado para construcao inicial: 0.0s\n"
     ]
    }
   ],
   "source": [
    "initial_solution = greedy_initial_construction(instance, lrc, 6)"
   ]
  },
  {
   "cell_type": "code",
   "execution_count": 7,
   "metadata": {},
   "outputs": [
    {
     "data": {
      "image/png": "[encoded data removed]",
      "text/plain": [
       "<Figure size 640x480 with 1 Axes>"
      ]
     },
     "metadata": {},
     "output_type": "display_data"
    }
   ],
   "source": [
    "x, y = instance[:, 1], instance[:, 2]\n",
    "x_initial, y_initial = initial_solution[:, 1], initial_solution[:, 2]\n",
    "plt.axis(\"off\")\n",
    "plt.scatter(x, y)\n",
    "plt.scatter(x_initial, y_initial)\n",
    "plt.show()"
   ]
  },
  {
   "cell_type": "markdown",
   "metadata": {},
   "source": [
    "## Busca Local - Teitz and Bart"
   ]
  },
  {
   "cell_type": "code",
   "execution_count": 8,
   "metadata": {},
   "outputs": [
    {
     "name": "stdout",
     "output_type": "stream",
     "text": [
      "Solucao inicial - Z: 2555.533197064539P-Medianas: [[34 74 38]\n",
      " [35 79 54]\n",
      " [26 77 82]\n",
      " [87 66 82]\n",
      " [27 95 65]\n",
      " [33 58 48]]\n",
      "Solucao 0 Z Z: 1866.9270163592312 P-Medianas: [[34 74 38]\n",
      " [35 79 54]\n",
      " [68 23 21]\n",
      " [87 66 82]\n",
      " [27 95 65]\n",
      " [33 58 48]]\n",
      "Solucao 1 Z Z: 1386.1444076758216 P-Medianas: [[34 74 38]\n",
      " [31 21 74]\n",
      " [68 23 21]\n",
      " [87 66 82]\n",
      " [27 95 65]\n",
      " [33 58 48]]\n",
      "Solucao 2 Z Z: 1208.6144262334128 P-Medianas: [[34 74 38]\n",
      " [31 21 74]\n",
      " [68 23 21]\n",
      " [87 66 82]\n",
      " [27 95 65]\n",
      " [71 49  2]]\n",
      "Solucao 3 Z Z: 1158.490020958393 P-Medianas: [[34 74 38]\n",
      " [31 21 74]\n",
      " [68 23 21]\n",
      " [87 66 82]\n",
      " [45 43 33]\n",
      " [71 49  2]]\n",
      "Solucao 4 Z Z: 1132.404014262527 P-Medianas: [[23 79 48]\n",
      " [31 21 74]\n",
      " [68 23 21]\n",
      " [87 66 82]\n",
      " [45 43 33]\n",
      " [71 49  2]]\n",
      "Solucao 5 Z Z: 1112.612004901069 P-Medianas: [[23 79 48]\n",
      " [31 21 74]\n",
      " [20 20 15]\n",
      " [87 66 82]\n",
      " [45 43 33]\n",
      " [71 49  2]]\n",
      "Solucao 6 Z Z: 1091.3171804963847 P-Medianas: [[23 79 48]\n",
      " [31 21 74]\n",
      " [20 20 15]\n",
      " [60 68 72]\n",
      " [45 43 33]\n",
      " [71 49  2]]\n",
      "Solucao 7 Z Z: 1062.6270497333148 P-Medianas: [[16 84 39]\n",
      " [31 21 74]\n",
      " [20 20 15]\n",
      " [60 68 72]\n",
      " [45 43 33]\n",
      " [71 49  2]]\n",
      "Solucao 8 Z Z: 1041.4968879740886 P-Medianas: [[16 84 39]\n",
      " [85 13 65]\n",
      " [20 20 15]\n",
      " [60 68 72]\n",
      " [45 43 33]\n",
      " [71 49  2]]\n",
      "Solucao 9 Z Z: 1029.021398553032 P-Medianas: [[16 84 39]\n",
      " [85 13 65]\n",
      " [20 20 15]\n",
      " [60 68 72]\n",
      " [73 38 37]\n",
      " [71 49  2]]\n",
      "Solucao 10 Z Z: 1023.0031429494113 P-Medianas: [[16 84 39]\n",
      " [85 13 65]\n",
      " [44 14 11]\n",
      " [60 68 72]\n",
      " [73 38 37]\n",
      " [71 49  2]]\n",
      "Melhor solucao encontrada10 => Z: 1023.0031429494113 P-Medianas: [[16 84 39]\n",
      " [85 13 65]\n",
      " [44 14 11]\n",
      " [60 68 72]\n",
      " [73 38 37]\n",
      " [71 49  2]]\n",
      "Tempo levado para busca local: 5.38s\n"
     ]
    },
    {
     "data": {
      "text/plain": [
       "array([[16, 84, 39],\n",
       "       [85, 13, 65],\n",
       "       [44, 14, 11],\n",
       "       [60, 68, 72],\n",
       "       [73, 38, 37],\n",
       "       [71, 49,  2]])"
      ]
     },
     "execution_count": 8,
     "metadata": {},
     "output_type": "execute_result"
    }
   ],
   "source": [
    "z, result = teitz_and_bart(initial_solution, instance, distance_matrix)\n",
    "z\n",
    "result"
   ]
  },
  {
   "cell_type": "code",
   "execution_count": 9,
   "metadata": {},
   "outputs": [
    {
     "data": {
      "image/png": "[encoded data removed]",
      "text/plain": [
       "<Figure size 640x480 with 1 Axes>"
      ]
     },
     "metadata": {},
     "output_type": "display_data"
    }
   ],
   "source": [
    "x, y = instance[:, 1], instance[:, 2]\n",
    "x_solution, y_solution = result[:, 1], result[:, 2]\n",
    "plt.axis(\"off\")\n",
    "plt.scatter(x, y)\n",
    "plt.scatter(x_solution, y_solution)\n",
    "plt.show()"
   ]
  }
 ],
 "metadata": {
  "kernelspec": {
   "display_name": "Python 3.9.12 ('grasp')",
   "language": "python",
   "name": "python3"
  },
  "language_info": {
   "codemirror_mode": {
    "name": "ipython",
    "version": 3
   },
   "file_extension": ".py",
   "mimetype": "text/x-python",
   "name": "python",
   "nbconvert_exporter": "python",
   "pygments_lexer": "ipython3",
   "version": "3.9.12"
  },
  "orig_nbformat": 4,
  "vscode": {
   "interpreter": {
    "hash": "7bc06694efa0b070aae3ecdb0ac8b7ca0e2605f46049c28041a38601ede34c81"
   }
  }
 },
 "nbformat": 4,
 "nbformat_minor": 2
}
