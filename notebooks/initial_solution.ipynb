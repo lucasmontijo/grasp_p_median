{
 "cells": [
  {
   "cell_type": "code",
   "execution_count": 1,
   "metadata": {},
   "outputs": [],
   "source": [
    "import sys\n",
    "sys.path.append('../src/')\n",
    "from matplotlib import pyplot as plt"
   ]
  },
  {
   "cell_type": "code",
   "execution_count": 2,
   "metadata": {},
   "outputs": [],
   "source": [
    "from instance import *\n",
    "from local_search import *\n",
    "from initial_solution import *"
   ]
  },
  {
   "cell_type": "code",
   "execution_count": null,
   "metadata": {},
   "outputs": [],
   "source": [
    "instance = np.array(load_instance(path=\"../data/\", file_name=\"instance.csv\"))"
   ]
  },
  {
   "cell_type": "code",
   "execution_count": 4,
   "metadata": {},
   "outputs": [],
   "source": [
    "random_initial = get_initial_solution(instance, 3)"
   ]
  },
  {
   "cell_type": "code",
   "execution_count": 5,
   "metadata": {},
   "outputs": [],
   "source": [
    "x, y = instance.T\n",
    "x_rand, y_rand = random_initial.T"
   ]
  },
  {
   "cell_type": "code",
   "execution_count": 6,
   "metadata": {},
   "outputs": [
    {
     "data": {
      "image/png": "[encoded data removed]",
      "text/plain": [
       "<Figure size 432x288 with 1 Axes>"
      ]
     },
     "metadata": {
      "needs_background": "light"
     },
     "output_type": "display_data"
    }
   ],
   "source": [
    "plt.scatter(x,y)\n",
    "plt.scatter(x_rand, y_rand)\n",
    "plt.axis(\"off\")\n",
    "plt.show()"
   ]
  },
  {
   "cell_type": "code",
   "execution_count": 7,
   "metadata": {},
   "outputs": [
    {
     "ename": "AttributeError",
     "evalue": "'numpy.ndarray' object has no attribute 'index'",
     "output_type": "error",
     "traceback": [
      "\u001b[1;31m---------------------------------------------------------------------------\u001b[0m",
      "\u001b[1;31mAttributeError\u001b[0m                            Traceback (most recent call last)",
      "\u001b[1;32mUbuntu-22.04\\home\\anasm\\Development\\grasp_p_median\\notebooks\\initial_solution.ipynb Cell 7\u001b[0m in \u001b[0;36m<cell line: 1>\u001b[1;34m()\u001b[0m\n\u001b[1;32m----> <a href='vscode-notebook-cell://wsl.localhost/Ubuntu-22.04/home/anasm/Development/grasp_p_median/notebooks/initial_solution.ipynb#W6sZmlsZQ%3D%3D?line=0'>1</a>\u001b[0m distance_matrix \u001b[39m=\u001b[39m distance_matrix_generator(instance)\n\u001b[0;32m      <a href='vscode-notebook-cell://wsl.localhost/Ubuntu-22.04/home/anasm/Development/grasp_p_median/notebooks/initial_solution.ipynb#W6sZmlsZQ%3D%3D?line=1'>2</a>\u001b[0m distance_matrix\n",
      "File \u001b[1;32m\\\\wsl.localhost\\Ubuntu-22.04\\home\\anasm\\Development\\grasp_p_median\\notebooks\\../src\\initial_solution.py:27\u001b[0m, in \u001b[0;36mdistance_matrix_generator\u001b[1;34m(instance)\u001b[0m\n\u001b[0;32m     25\u001b[0m             distance_matrix[(instance\u001b[39m.\u001b[39mindex(point_a), instance\u001b[39m.\u001b[39mindex(point_b))] \u001b[39m=\u001b[39m calculate_distance(point_a[\u001b[39m0\u001b[39m], point_a[\u001b[39m1\u001b[39m], point_b[\u001b[39m0\u001b[39m], point_b[\u001b[39m1\u001b[39m])\n\u001b[0;32m     26\u001b[0m         \u001b[39melse\u001b[39;00m:\n\u001b[1;32m---> 27\u001b[0m             distance_matrix[(instance\u001b[39m.\u001b[39;49mindex(point_a), instance\u001b[39m.\u001b[39mindex(point_b))] \u001b[39m=\u001b[39m \u001b[39m0.0\u001b[39m\n\u001b[0;32m     28\u001b[0m \u001b[39mreturn\u001b[39;00m distance_matrix\n",
      "\u001b[1;31mAttributeError\u001b[0m: 'numpy.ndarray' object has no attribute 'index'"
     ]
    }
   ],
   "source": [
    "distance_matrix = distance_matrix_generator(instance)\n",
    "distance_matrix"
   ]
  }
 ],
 "metadata": {
  "kernelspec": {
   "display_name": "Python 3.10.4 64-bit",
   "language": "python",
   "name": "python3"
  },
  "language_info": {
   "codemirror_mode": {
    "name": "ipython",
    "version": 3
   },
   "file_extension": ".py",
   "mimetype": "text/x-python",
   "name": "python",
   "nbconvert_exporter": "python",
   "pygments_lexer": "ipython3",
   "version": "3.10.4"
  },
  "orig_nbformat": 4,
  "vscode": {
   "interpreter": {
    "hash": "916dbcbb3f70747c44a77c7bcd40155683ae19c65e1c03b4aa3499c5328201f1"
   }
  }
 },
 "nbformat": 4,
 "nbformat_minor": 2
}
