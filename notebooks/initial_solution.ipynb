{
 "cells": [
  {
   "cell_type": "code",
   "execution_count": 1,
   "metadata": {},
   "outputs": [],
   "source": [
    "import sys\n",
    "sys.path.append('../src/')\n",
    "from matplotlib import pyplot as plt\n",
    "import numpy as np"
   ]
  },
  {
   "cell_type": "code",
   "execution_count": 2,
   "metadata": {},
   "outputs": [],
   "source": [
    "from instance import *\n",
    "from local_search import *\n",
    "from initial_solution import *\n",
    "from random import randint"
   ]
  },
  {
   "cell_type": "code",
   "execution_count": 3,
   "metadata": {},
   "outputs": [],
   "source": [
    "instance = load_instance(path=\"../data/\", file_name=\"instance_0.csv\")"
   ]
  },
  {
   "cell_type": "code",
   "execution_count": 4,
   "metadata": {},
   "outputs": [],
   "source": [
    "instance = instance.to_numpy()"
   ]
  },
  {
   "cell_type": "code",
   "execution_count": 5,
   "metadata": {},
   "outputs": [
    {
     "data": {
      "text/plain": [
       "array([[  0,  56,  65],\n",
       "       [  1,  14,  28],\n",
       "       [  2,  99,  78],\n",
       "       [  3,  86,  26],\n",
       "       [  4,  59,  62],\n",
       "       [  5,  29,   3],\n",
       "       [  6,  39,  82],\n",
       "       [  7,  45,  35],\n",
       "       [  8,  72,  84],\n",
       "       [  9,  39,  29],\n",
       "       [ 10,  14,  11],\n",
       "       [ 11,  92,   2],\n",
       "       [ 12,  67,  40],\n",
       "       [ 13,  20,  64],\n",
       "       [ 14,  50,  21],\n",
       "       [ 15,  17,  75],\n",
       "       [ 16,  84,  39],\n",
       "       [ 17,  69,  40],\n",
       "       [ 18, 100,  88],\n",
       "       [ 19,  49,  52],\n",
       "       [ 20,  20,  15],\n",
       "       [ 21,  32,  42],\n",
       "       [ 22,  68,  20],\n",
       "       [ 23,  79,  48],\n",
       "       [ 24,  31,  35],\n",
       "       [ 25, 100,  40],\n",
       "       [ 26,  77,  82],\n",
       "       [ 27,  95,  65],\n",
       "       [ 28,  88,  23],\n",
       "       [ 29,  63,  94],\n",
       "       [ 30,  14,  74],\n",
       "       [ 31,  21,  74],\n",
       "       [ 32,  20,  19],\n",
       "       [ 33,  58,  48],\n",
       "       [ 34,  74,  38],\n",
       "       [ 35,  79,  54],\n",
       "       [ 36,   4,  64],\n",
       "       [ 37,  10,  61],\n",
       "       [ 38,   6,  30],\n",
       "       [ 39,  40,   9],\n",
       "       [ 40,  96,  51],\n",
       "       [ 41,   4,  54],\n",
       "       [ 42,  87,  46],\n",
       "       [ 43,  64,  15],\n",
       "       [ 44,  14,  11],\n",
       "       [ 45,  43,  33],\n",
       "       [ 46,  85,  28],\n",
       "       [ 47,  33,  68],\n",
       "       [ 48,  84,  74],\n",
       "       [ 49,  14,  75],\n",
       "       [ 50,  49,  85],\n",
       "       [ 51,  94,  35],\n",
       "       [ 52,  97,  33],\n",
       "       [ 53,  33,  34],\n",
       "       [ 54,  81,  86],\n",
       "       [ 55,  44,   0],\n",
       "       [ 56,  32,  77],\n",
       "       [ 57,  89,  99],\n",
       "       [ 58,  49,  12],\n",
       "       [ 59,  51,  26],\n",
       "       [ 60,  68,  72],\n",
       "       [ 61,  35,   3],\n",
       "       [ 62,  42,  13],\n",
       "       [ 63,  59,  99],\n",
       "       [ 64,  58,  75],\n",
       "       [ 65,  73,  57],\n",
       "       [ 66,  28,   8],\n",
       "       [ 67,  17,  97],\n",
       "       [ 68,  23,  21],\n",
       "       [ 69,  68,  69],\n",
       "       [ 70,  51,  25],\n",
       "       [ 71,  49,   2],\n",
       "       [ 72,  21,  84],\n",
       "       [ 73,  38,  37],\n",
       "       [ 74,  52,  44],\n",
       "       [ 75,  88,  27],\n",
       "       [ 76,  65,   2],\n",
       "       [ 77,  79,  59],\n",
       "       [ 78,  28,   1],\n",
       "       [ 79,  98,  49],\n",
       "       [ 80,  80,  97],\n",
       "       [ 81,  86,  70],\n",
       "       [ 82,  10,  52],\n",
       "       [ 83,  56,  99],\n",
       "       [ 84,  96,   2],\n",
       "       [ 85,  13,  65],\n",
       "       [ 86,  21,  76],\n",
       "       [ 87,  66,  82],\n",
       "       [ 88,   7,  37],\n",
       "       [ 89,   7,  51],\n",
       "       [ 90,  73,  19],\n",
       "       [ 91,  49,  19],\n",
       "       [ 92,  15,  95],\n",
       "       [ 93,  32,  90],\n",
       "       [ 94,  67,  41],\n",
       "       [ 95,  28,   7],\n",
       "       [ 96,  56,  25],\n",
       "       [ 97,  32,  57],\n",
       "       [ 98,   5,  18],\n",
       "       [ 99,  13,  53]], dtype=int64)"
      ]
     },
     "execution_count": 5,
     "metadata": {},
     "output_type": "execute_result"
    }
   ],
   "source": [
    "instance"
   ]
  },
  {
   "cell_type": "code",
   "execution_count": 6,
   "metadata": {},
   "outputs": [],
   "source": [
    "distance_matrix = generate_distance_matrix(instance)\n",
    "g_t = calculate_g_of_t(instance, distance_matrix)\n",
    "lrc = generate_lrc(g_t, 0.3, instance)\n"
   ]
  },
  {
   "cell_type": "markdown",
   "metadata": {},
   "source": [
    "Gerando busca inicial"
   ]
  },
  {
   "cell_type": "code",
   "execution_count": 7,
   "metadata": {},
   "outputs": [
    {
     "name": "stdout",
     "output_type": "stream",
     "text": [
      "Tempo levado para construcao inicial: 0.0s\n"
     ]
    },
    {
     "data": {
      "text/plain": [
       "array([[48, 84, 74],\n",
       "       [50, 49, 85],\n",
       "       [54, 81, 86],\n",
       "       [69, 68, 69],\n",
       "       [17, 69, 40],\n",
       "       [97, 32, 57]])"
      ]
     },
     "execution_count": 7,
     "metadata": {},
     "output_type": "execute_result"
    }
   ],
   "source": [
    "initial_solution = greedy_initial_construction(instance, lrc, 6)\n",
    "\n",
    "initial_solution"
   ]
  },
  {
   "cell_type": "code",
   "execution_count": 8,
   "metadata": {},
   "outputs": [
    {
     "data": {
      "image/png": "[encoded data removed]",
      "text/plain": [
       "<Figure size 640x480 with 1 Axes>"
      ]
     },
     "metadata": {},
     "output_type": "display_data"
    }
   ],
   "source": [
    "x, y = instance[:, 1], instance[:, 2]\n",
    "x_initial, y_initial = initial_solution[:, 1], initial_solution[:, 2]\n",
    "plt.axis(\"off\")\n",
    "plt.scatter(x, y)\n",
    "plt.scatter(x_initial, y_initial)\n",
    "plt.show()"
   ]
  }
 ],
 "metadata": {
  "kernelspec": {
   "display_name": "Python 3.9.12 ('grasp')",
   "language": "python",
   "name": "python3"
  },
  "language_info": {
   "codemirror_mode": {
    "name": "ipython",
    "version": 3
   },
   "file_extension": ".py",
   "mimetype": "text/x-python",
   "name": "python",
   "nbconvert_exporter": "python",
   "pygments_lexer": "ipython3",
   "version": "3.9.12"
  },
  "orig_nbformat": 4,
  "vscode": {
   "interpreter": {
    "hash": "7bc06694efa0b070aae3ecdb0ac8b7ca0e2605f46049c28041a38601ede34c81"
   }
  }
 },
 "nbformat": 4,
 "nbformat_minor": 2
}
